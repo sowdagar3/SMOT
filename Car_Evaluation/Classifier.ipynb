{
 "cells": [
  {
   "cell_type": "markdown",
   "metadata": {},
   "source": [
    "## Classification model for Car evaluation"
   ]
  },
  {
   "cell_type": "code",
   "execution_count": 1396,
   "metadata": {},
   "outputs": [],
   "source": [
    "import numpy as np\n",
    "import pandas as pd\n",
    "from sklearn.preprocessing import LabelEncoder\n",
    "from sklearn.svm import SVC\n",
    "from imblearn.over_sampling import SMOTE\n",
    "from sklearn.preprocessing import StandardScaler\n",
    "from sklearn.ensemble import BaggingClassifier"
   ]
  },
  {
   "cell_type": "code",
   "execution_count": 1397,
   "metadata": {
    "id": "kpU_rFjRDWJv"
   },
   "outputs": [],
   "source": [
    "train_data= pd.read_csv(\"Car_Condition_evaluation_dataset/training_data.csv\")\n",
    "test_data= pd.read_csv(\"Car_Condition_evaluation_dataset/testing_data.csv\")"
   ]
  },
  {
   "cell_type": "code",
   "execution_count": 1398,
   "metadata": {},
   "outputs": [
    {
     "data": {
      "text/plain": [
       "(1554, 7)"
      ]
     },
     "execution_count": 1398,
     "metadata": {},
     "output_type": "execute_result"
    }
   ],
   "source": [
    "train_data.shape"
   ]
  },
  {
   "cell_type": "code",
   "execution_count": 1399,
   "metadata": {},
   "outputs": [
    {
     "name": "stdout",
     "output_type": "stream",
     "text": [
      "<class 'pandas.core.frame.DataFrame'>\n",
      "RangeIndex: 1554 entries, 0 to 1553\n",
      "Data columns (total 7 columns):\n",
      " #   Column               Non-Null Count  Dtype \n",
      "---  ------               --------------  ----- \n",
      " 0   Buying_Cost          1554 non-null   object\n",
      " 1   Maintainance_Cost    1554 non-null   object\n",
      " 2   Number_of_doors      1554 non-null   object\n",
      " 3   Number_of_Passenger  1554 non-null   object\n",
      " 4   Luggage_Space        1554 non-null   object\n",
      " 5   Safety_Features      1554 non-null   object\n",
      " 6   How_is_the_deal      1554 non-null   object\n",
      "dtypes: object(7)\n",
      "memory usage: 85.1+ KB\n"
     ]
    }
   ],
   "source": [
    "train_data.info()"
   ]
  },
  {
   "cell_type": "code",
   "execution_count": 1400,
   "metadata": {},
   "outputs": [
    {
     "name": "stdout",
     "output_type": "stream",
     "text": [
      "<class 'pandas.core.frame.DataFrame'>\n",
      "RangeIndex: 174 entries, 0 to 173\n",
      "Data columns (total 7 columns):\n",
      " #   Column               Non-Null Count  Dtype \n",
      "---  ------               --------------  ----- \n",
      " 0   Deal_num             174 non-null    int64 \n",
      " 1   Buying_Cost          174 non-null    object\n",
      " 2   Maintainance_Cost    174 non-null    object\n",
      " 3   Number_of_doors      174 non-null    object\n",
      " 4   Number_of_Passenger  174 non-null    object\n",
      " 5   Luggage_Space        174 non-null    object\n",
      " 6   Safety_Features      174 non-null    object\n",
      "dtypes: int64(1), object(6)\n",
      "memory usage: 9.6+ KB\n"
     ]
    }
   ],
   "source": [
    "test_data.info()"
   ]
  },
  {
   "cell_type": "code",
   "execution_count": 1401,
   "metadata": {},
   "outputs": [],
   "source": [
    "test_data=test_data.set_index(\"Deal_num\")"
   ]
  },
  {
   "cell_type": "code",
   "execution_count": 1402,
   "metadata": {},
   "outputs": [
    {
     "data": {
      "text/html": [
       "<div>\n",
       "<style scoped>\n",
       "    .dataframe tbody tr th:only-of-type {\n",
       "        vertical-align: middle;\n",
       "    }\n",
       "\n",
       "    .dataframe tbody tr th {\n",
       "        vertical-align: top;\n",
       "    }\n",
       "\n",
       "    .dataframe thead th {\n",
       "        text-align: right;\n",
       "    }\n",
       "</style>\n",
       "<table border=\"1\" class=\"dataframe\">\n",
       "  <thead>\n",
       "    <tr style=\"text-align: right;\">\n",
       "      <th></th>\n",
       "      <th>Buying_Cost</th>\n",
       "      <th>Maintainance_Cost</th>\n",
       "      <th>Number_of_doors</th>\n",
       "      <th>Number_of_Passenger</th>\n",
       "      <th>Luggage_Space</th>\n",
       "      <th>Safety_Features</th>\n",
       "      <th>How_is_the_deal</th>\n",
       "    </tr>\n",
       "  </thead>\n",
       "  <tbody>\n",
       "    <tr>\n",
       "      <th>0</th>\n",
       "      <td>vhigh</td>\n",
       "      <td>med</td>\n",
       "      <td>2</td>\n",
       "      <td>4</td>\n",
       "      <td>small</td>\n",
       "      <td>low</td>\n",
       "      <td>Bad_deal</td>\n",
       "    </tr>\n",
       "    <tr>\n",
       "      <th>1</th>\n",
       "      <td>vhigh</td>\n",
       "      <td>med</td>\n",
       "      <td>5more</td>\n",
       "      <td>4</td>\n",
       "      <td>small</td>\n",
       "      <td>low</td>\n",
       "      <td>Bad_deal</td>\n",
       "    </tr>\n",
       "    <tr>\n",
       "      <th>2</th>\n",
       "      <td>med</td>\n",
       "      <td>vhigh</td>\n",
       "      <td>5more</td>\n",
       "      <td>4</td>\n",
       "      <td>small</td>\n",
       "      <td>low</td>\n",
       "      <td>Bad_deal</td>\n",
       "    </tr>\n",
       "    <tr>\n",
       "      <th>3</th>\n",
       "      <td>high</td>\n",
       "      <td>high</td>\n",
       "      <td>3</td>\n",
       "      <td>2</td>\n",
       "      <td>med</td>\n",
       "      <td>med</td>\n",
       "      <td>Bad_deal</td>\n",
       "    </tr>\n",
       "    <tr>\n",
       "      <th>4</th>\n",
       "      <td>vhigh</td>\n",
       "      <td>vhigh</td>\n",
       "      <td>5more</td>\n",
       "      <td>4</td>\n",
       "      <td>small</td>\n",
       "      <td>med</td>\n",
       "      <td>Bad_deal</td>\n",
       "    </tr>\n",
       "  </tbody>\n",
       "</table>\n",
       "</div>"
      ],
      "text/plain": [
       "  Buying_Cost Maintainance_Cost Number_of_doors Number_of_Passenger  \\\n",
       "0       vhigh               med               2                   4   \n",
       "1       vhigh               med           5more                   4   \n",
       "2         med             vhigh           5more                   4   \n",
       "3        high              high               3                   2   \n",
       "4       vhigh             vhigh           5more                   4   \n",
       "\n",
       "  Luggage_Space Safety_Features How_is_the_deal  \n",
       "0         small             low        Bad_deal  \n",
       "1         small             low        Bad_deal  \n",
       "2         small             low        Bad_deal  \n",
       "3           med             med        Bad_deal  \n",
       "4         small             med        Bad_deal  "
      ]
     },
     "execution_count": 1402,
     "metadata": {},
     "output_type": "execute_result"
    }
   ],
   "source": [
    "train_data[:5]"
   ]
  },
  {
   "cell_type": "code",
   "execution_count": 1403,
   "metadata": {},
   "outputs": [
    {
     "name": "stdout",
     "output_type": "stream",
     "text": [
      "unique ordinals in column Buying_Cost are ['vhigh' 'med' 'high' 'low']\n",
      "unique ordinals in column Maintainance_Cost are ['med' 'vhigh' 'high' 'low']\n",
      "unique ordinals in column Number_of_doors are ['2' '5more' '3' '4']\n",
      "unique ordinals in column Number_of_Passenger are ['4' '2' 'more']\n",
      "unique ordinals in column Luggage_Space are ['small' 'med' 'big']\n",
      "unique ordinals in column Safety_Features are ['low' 'med' 'high']\n",
      "unique ordinals in column How_is_the_deal are ['Bad_deal' 'Nice_deal']\n"
     ]
    }
   ],
   "source": [
    "for i in train_data.columns:\n",
    "    print(f\"unique ordinals in column {i} are {train_data[i].unique()}\")"
   ]
  },
  {
   "cell_type": "code",
   "execution_count": 1404,
   "metadata": {},
   "outputs": [
    {
     "data": {
      "text/html": [
       "<div>\n",
       "<style scoped>\n",
       "    .dataframe tbody tr th:only-of-type {\n",
       "        vertical-align: middle;\n",
       "    }\n",
       "\n",
       "    .dataframe tbody tr th {\n",
       "        vertical-align: top;\n",
       "    }\n",
       "\n",
       "    .dataframe thead th {\n",
       "        text-align: right;\n",
       "    }\n",
       "</style>\n",
       "<table border=\"1\" class=\"dataframe\">\n",
       "  <thead>\n",
       "    <tr style=\"text-align: right;\">\n",
       "      <th></th>\n",
       "      <th>Buying_Cost</th>\n",
       "      <th>Maintainance_Cost</th>\n",
       "      <th>Number_of_doors</th>\n",
       "      <th>Number_of_Passenger</th>\n",
       "      <th>Luggage_Space</th>\n",
       "      <th>Safety_Features</th>\n",
       "    </tr>\n",
       "    <tr>\n",
       "      <th>Deal_num</th>\n",
       "      <th></th>\n",
       "      <th></th>\n",
       "      <th></th>\n",
       "      <th></th>\n",
       "      <th></th>\n",
       "      <th></th>\n",
       "    </tr>\n",
       "  </thead>\n",
       "  <tbody>\n",
       "    <tr>\n",
       "      <th>0</th>\n",
       "      <td>low</td>\n",
       "      <td>low</td>\n",
       "      <td>5more</td>\n",
       "      <td>more</td>\n",
       "      <td>big</td>\n",
       "      <td>high</td>\n",
       "    </tr>\n",
       "    <tr>\n",
       "      <th>1</th>\n",
       "      <td>low</td>\n",
       "      <td>low</td>\n",
       "      <td>2</td>\n",
       "      <td>2</td>\n",
       "      <td>small</td>\n",
       "      <td>high</td>\n",
       "    </tr>\n",
       "    <tr>\n",
       "      <th>2</th>\n",
       "      <td>low</td>\n",
       "      <td>med</td>\n",
       "      <td>5more</td>\n",
       "      <td>4</td>\n",
       "      <td>med</td>\n",
       "      <td>low</td>\n",
       "    </tr>\n",
       "    <tr>\n",
       "      <th>3</th>\n",
       "      <td>low</td>\n",
       "      <td>low</td>\n",
       "      <td>4</td>\n",
       "      <td>2</td>\n",
       "      <td>big</td>\n",
       "      <td>low</td>\n",
       "    </tr>\n",
       "    <tr>\n",
       "      <th>4</th>\n",
       "      <td>low</td>\n",
       "      <td>low</td>\n",
       "      <td>4</td>\n",
       "      <td>2</td>\n",
       "      <td>med</td>\n",
       "      <td>high</td>\n",
       "    </tr>\n",
       "  </tbody>\n",
       "</table>\n",
       "</div>"
      ],
      "text/plain": [
       "         Buying_Cost Maintainance_Cost Number_of_doors Number_of_Passenger  \\\n",
       "Deal_num                                                                     \n",
       "0                low               low           5more                more   \n",
       "1                low               low               2                   2   \n",
       "2                low               med           5more                   4   \n",
       "3                low               low               4                   2   \n",
       "4                low               low               4                   2   \n",
       "\n",
       "         Luggage_Space Safety_Features  \n",
       "Deal_num                                \n",
       "0                  big            high  \n",
       "1                small            high  \n",
       "2                  med             low  \n",
       "3                  big             low  \n",
       "4                  med            high  "
      ]
     },
     "execution_count": 1404,
     "metadata": {},
     "output_type": "execute_result"
    }
   ],
   "source": [
    "test_data[:5]"
   ]
  },
  {
   "cell_type": "code",
   "execution_count": 1405,
   "metadata": {},
   "outputs": [],
   "source": [
    "from sklearn.preprocessing import OrdinalEncoder\n",
    "\n",
    "x=OrdinalEncoder(categories=[[\"low\",\"med\",\"high\",\"vhigh\"],[\"low\",\"med\",\"high\",\"vhigh\"],\n",
    "                 [\"2\",\"3\",\"4\",\"5more\"],[\"2\",\"4\",\"more\"],[\"small\",\"med\",\"big\"],\n",
    "                  [\"low\",\"med\",\"high\"]])\n",
    "y=OrdinalEncoder(categories=[[\"Bad_deal\",\"Nice_deal\"]])"
   ]
  },
  {
   "cell_type": "code",
   "execution_count": 1406,
   "metadata": {},
   "outputs": [],
   "source": [
    "xtrain,ytrain = train_data.drop('How_is_the_deal', axis = 1), train_data[['How_is_the_deal']]\n",
    "\n",
    "xtrain = pd.DataFrame(x.fit_transform(xtrain), columns = train_data.columns[:-1])\n",
    "\n",
    "ytrain = pd.DataFrame(y.fit_transform(ytrain), columns = [train_data.columns[-1]])"
   ]
  },
  {
   "cell_type": "code",
   "execution_count": 1407,
   "metadata": {},
   "outputs": [],
   "source": [
    "xtest = pd.DataFrame(x.fit_transform(test_data), columns = test_data.columns)\n",
    "\n",
    "test_labels= pd.read_csv(\"Car_Condition_evaluation_dataset/test_labels.csv\")\n",
    "\n",
    "test_labels=test_labels.set_index(\"Deal_num\")\n",
    "\n",
    "ytest=pd.DataFrame(y.fit_transform(test_labels), columns = test_labels.columns)"
   ]
  },
  {
   "cell_type": "markdown",
   "metadata": {},
   "source": [
    "## Baseline_model"
   ]
  },
  {
   "cell_type": "code",
   "execution_count": 1408,
   "metadata": {},
   "outputs": [],
   "source": [
    "scaler1 = StandardScaler().fit(xtrain)"
   ]
  },
  {
   "cell_type": "code",
   "execution_count": 1409,
   "metadata": {},
   "outputs": [],
   "source": [
    "#Standard Normalization\n",
    "xtrain1=scaler1.transform(xtrain)\n",
    "xtest1=scaler1.transform(xtest)"
   ]
  },
  {
   "cell_type": "code",
   "execution_count": 1410,
   "metadata": {},
   "outputs": [
    {
     "name": "stdout",
     "output_type": "stream",
     "text": [
      "Training accuracy is 0.9974259974259975\n",
      "Test accuracy is 89.65517241379311\n"
     ]
    }
   ],
   "source": [
    "Baseline_model=SVC(kernel=\"rbf\")\n",
    "Baseline_model.fit(xtrain1,ytrain.values.reshape(-1))\n",
    "ypred_train=Baseline_model.predict(xtrain1)\n",
    "train_accuracy=np.mean(ypred_train==ytrain.values.reshape(-1))\n",
    "print(\"Training accuracy is\",train_accuracy)\n",
    "ypred_test=Baseline_model.predict(xtest1)\n",
    "test_accuracy=np.mean(ypred_test==ytest.values.reshape(-1))\n",
    "print(\"Test accuracy is\",test_accuracy*100)"
   ]
  },
  {
   "cell_type": "code",
   "execution_count": 1411,
   "metadata": {},
   "outputs": [
    {
     "data": {
      "text/plain": [
       "How_is_the_deal\n",
       "Bad_deal     1434\n",
       "Nice_deal     120\n",
       "dtype: int64"
      ]
     },
     "execution_count": 1411,
     "metadata": {},
     "output_type": "execute_result"
    }
   ],
   "source": [
    "#Check for the class label count in the training data\n",
    "class_info_train=train_data.pivot_table(index=[\"How_is_the_deal\"],aggfunc=\"size\")\n",
    "\n",
    "class_info_train"
   ]
  },
  {
   "cell_type": "markdown",
   "metadata": {},
   "source": [
    "This Clearly shows the class imbalance in the training data but still we achived good test accuracy."
   ]
  },
  {
   "cell_type": "markdown",
   "metadata": {},
   "source": [
    "## Ensemble_model"
   ]
  },
  {
   "cell_type": "code",
   "execution_count": 1412,
   "metadata": {},
   "outputs": [
    {
     "name": "stdout",
     "output_type": "stream",
     "text": [
      "Training accuracy is 0.9993564993564994\n",
      "Test accuracy is 90.22988505747126\n"
     ]
    }
   ],
   "source": [
    "Ens_model=BaggingClassifier(base_estimator=SVC(),n_estimators=25,random_state=35)\n",
    "Ens_model.fit(xtrain1,ytrain.values.reshape(-1))\n",
    "ypred_train=Ens_model.predict(xtrain1)\n",
    "train_accuracy=np.mean(ypred_train==ytrain.values.reshape(-1))\n",
    "print(\"Training accuracy is\",train_accuracy)\n",
    "ypred_test=Ens_model.predict(xtest1)\n",
    "test_accuracy=np.mean(ypred_test==ytest.values.reshape(-1))\n",
    "print(\"Test accuracy is\",test_accuracy*100)"
   ]
  },
  {
   "cell_type": "markdown",
   "metadata": {},
   "source": [
    "#### From this it is clear that there is no significant improvement in accuracy with ensemble model.Now we will try SMOT along with ensemble model"
   ]
  },
  {
   "cell_type": "markdown",
   "metadata": {},
   "source": [
    "## SMOT"
   ]
  },
  {
   "cell_type": "raw",
   "metadata": {},
   "source": [
    "1.SMOT is a synthetic minority oversampling technique.\n",
    "2.A problem with imbalanced classification is that there are too few examples of the minority class for a model to effectively learn the decision boundary.\n",
    "3.One way to solve this problem is to oversample the examples in the minority class. This can be achieved by simply duplicating examples from the minority class in the training dataset prior to fitting a model. This can balance the class distribution but does not provide any additional information to the model.\n",
    "4.SMOTE first selects a minority class instance a at random and finds its k nearest minority class neighbors. The synthetic instance is then created by choosing one of the k nearest neighbors b of a point a, at random and connecting a and b to form a line segment in the feature space. The synthetic instances are generated as a convex combination of the two chosen instances a and b."
   ]
  },
  {
   "cell_type": "code",
   "execution_count": 1413,
   "metadata": {},
   "outputs": [],
   "source": [
    "smot = SMOTE(sampling_strategy='minority',k_neighbors=3)\n",
    "x_smot,y_smot=smot.fit_resample(xtrain.values,ytrain.values.reshape(-1))"
   ]
  },
  {
   "cell_type": "code",
   "execution_count": 1414,
   "metadata": {},
   "outputs": [],
   "source": [
    "scaler2 = StandardScaler().fit(x_smot)\n",
    "x_smot=scaler2.transform(x_smot)\n",
    "xtest=scaler2.transform(xtest.values)"
   ]
  },
  {
   "cell_type": "code",
   "execution_count": 1415,
   "metadata": {},
   "outputs": [
    {
     "name": "stdout",
     "output_type": "stream",
     "text": [
      " Number of Traning data points before applying SMOT are 1554\n",
      "\t\t\t\tAfter applying SMOT are 2868\n"
     ]
    }
   ],
   "source": [
    "print(f\" Number of Traning data points before applying SMOT are {xtrain.shape[0]}\\n\\t\\t\\t\\tAfter applying SMOT are {x_smot.shape[0]}\")"
   ]
  },
  {
   "cell_type": "markdown",
   "metadata": {},
   "source": [
    "## Final Model Using ensemble model and Data augmentation technique SMOT"
   ]
  },
  {
   "cell_type": "code",
   "execution_count": 1416,
   "metadata": {},
   "outputs": [
    {
     "name": "stdout",
     "output_type": "stream",
     "text": [
      "Training accuracy is 1.0\n",
      "Test accuracy is 95.40229885057471\n"
     ]
    }
   ],
   "source": [
    "Final_model=BaggingClassifier(n_estimators=20,random_state=30)\n",
    "Final_model.fit(x_smot,y_smot)\n",
    "ypred_train=Final_model.predict(x_smot)\n",
    "train_accuracy=np.mean(ypred_train==y_smot)\n",
    "print(\"Training accuracy is\",train_accuracy)\n",
    "ypred_test=Final_model.predict(xtest)\n",
    "test_accuracy=np.mean(ypred_test==ytest.values.reshape(-1))\n",
    "print(\"Test accuracy is\",test_accuracy*100)"
   ]
  },
  {
   "cell_type": "markdown",
   "metadata": {},
   "source": [
    "### From this we can conclude that SMOT improved the test accuracy by a significant amount"
   ]
  },
  {
   "cell_type": "code",
   "execution_count": null,
   "metadata": {},
   "outputs": [],
   "source": []
  }
 ],
 "metadata": {
  "colab": {
   "name": "Starter_Notebook_Assignment_2.ipynb",
   "provenance": []
  },
  "kernelspec": {
   "display_name": "Python 3 (ipykernel)",
   "language": "python",
   "name": "python3"
  },
  "language_info": {
   "codemirror_mode": {
    "name": "ipython",
    "version": 3
   },
   "file_extension": ".py",
   "mimetype": "text/x-python",
   "name": "python",
   "nbconvert_exporter": "python",
   "pygments_lexer": "ipython3",
   "version": "3.9.13"
  }
 },
 "nbformat": 4,
 "nbformat_minor": 1
}
